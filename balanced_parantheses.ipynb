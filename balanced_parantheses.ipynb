{
  "nbformat": 4,
  "nbformat_minor": 0,
  "metadata": {
    "colab": {
      "provenance": [],
      "authorship_tag": "ABX9TyPikFOGQXFts0Ftzj5VRjbL",
      "include_colab_link": true
    },
    "kernelspec": {
      "name": "python3",
      "display_name": "Python 3"
    },
    "language_info": {
      "name": "python"
    }
  },
  "cells": [
    {
      "cell_type": "markdown",
      "metadata": {
        "id": "view-in-github",
        "colab_type": "text"
      },
      "source": [
        "<a href=\"https://colab.research.google.com/github/jssisodiya/first/blob/master/balanced_parantheses.ipynb\" target=\"_parent\"><img src=\"https://colab.research.google.com/assets/colab-badge.svg\" alt=\"Open In Colab\"/></a>"
      ]
    },
    {
      "cell_type": "code",
      "execution_count": 1,
      "metadata": {
        "id": "mBRxkWjgkOnR"
      },
      "outputs": [],
      "source": [
        "class Solution:\n",
        "    def isValid(self, s: str) -> bool:\n",
        "        stack = []\n",
        "        closeToOpen = { \")\" : \"(\", \"]\" : \"[\", \"}\" : \"{\"} #dictionary maps each closing bracket to its corresponding opening bracket\n",
        "        for c in s:\n",
        "            if c in closeToOpen:\n",
        "                if stack and stack[-1] == closeToOpen[c]:\n",
        "                    stack.pop()\n",
        "                else:\n",
        "                    return False\n",
        "            else:\n",
        "                stack.append(c)\n",
        "        return True if not stack else False"
      ]
    },
    {
      "cell_type": "code",
      "source": [
        "s = \"()\"\n",
        "solution = Solution()\n",
        "result = solution.isValid(s)\n",
        "print(result) # Output: True (balanced parentheses)\n",
        "s = \"()[]{}\"\n",
        "solution = Solution()\n",
        "result = solution.isValid(s)\n",
        "print(result) # Output: True (balanced parentheses)\n",
        "s = \"(]\"\n",
        "solution = Solution()\n",
        "result = solution.isValid(s)\n",
        "print(result) # Output: False (not balanced parentheses)"
      ],
      "metadata": {
        "colab": {
          "base_uri": "https://localhost:8080/"
        },
        "id": "TTxHmJoSkXM5",
        "outputId": "5bf5e44a-80bc-48ba-91b2-b3b559e14fb4"
      },
      "execution_count": 2,
      "outputs": [
        {
          "output_type": "stream",
          "name": "stdout",
          "text": [
            "True\n",
            "True\n",
            "False\n"
          ]
        }
      ]
    }
  ]
}